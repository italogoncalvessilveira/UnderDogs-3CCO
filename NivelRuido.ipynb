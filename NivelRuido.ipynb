import sys
import pyaudio
import struct
import math
import time
import random

# Criação de listas 
lista_decibel = []
lista_ambiente = []
lista_espaco = []
lista_tempo = []

# Configurações da gravação de áudio
FORMAT = pyaudio.paInt16
CHANNELS = 1
RATE = 44100
CHUNK = 1024

# Inicializa o objeto PyAudio
audio = pyaudio.PyAudio()

# Abre o stream de áudio
stream = audio.open(format=FORMAT, channels=CHANNELS, rate=RATE, input=True, frames_per_buffer=CHUNK)

# Define o limiar de ruído máximo permitido (em dB)
MAX_NOISE_LEVEL = 45

def calculate_noise_level(data):
    # Converte os dados do áudio em um array de números inteiros
    data_int = struct.unpack(str(len(data)) + 'B', data)
    
    # Calcula a energia do sinal
    rms = math.sqrt(sum([(x - 128) ** 2 for x in data_int]) / len(data_int))

    # Calcula o nível de ruído em dB usando a escala A de ponderação de frequência
    decibel = 20 * math.log10(rms)
    
    return decibel

def medir_nivel_ruido(tempo_medicao):
    # Inicializa a variável como verdadeira
    ambiente_adequado = True
    ambiente_simulado = True
    
    # Calcula o número de chunks para ler com base no tempo de medição
    num_chunks = int(RATE / CHUNK * tempo_medicao)
    
    # Inicializa a lista para armazenar os dados de áudio
    data_list = []
    
    # Lê os dados de áudio do stream
    for i in range(num_chunks):
        data = stream.read(CHUNK)
        data_list.append(data)
    
    # Concatena os dados de áudio em uma única string
    data_concatenado = b''.join(data_list)
    
    # Calcula o nível de ruído em dB
    decibel = calculate_noise_level(data_concatenado)
    decibel_simulado = round(random.normalvariate(decibel, 40), 2)
    
    # Imprime as informações do nível de ruído
    print(f"Nível de ruído durante {tempo_medicao} segundos: {decibel:.2f} dB")
    
    # Verifica se o nível de ruído está acima do limiar máximo permitido
    if decibel > MAX_NOISE_LEVEL:
        print("O ambiente não está adequado para o sono do paciente")
        ambiente_adequado = False
    else:
        print("O ambiente está adequado para o sono do paciente")
        ambiente_adequado = True

    # Imprime as informações do nível de ruído
    print(f"Nível de ruído simulado durante {tempo_medicao} segundos: {decibel_simulado:.2f} dB")    

    # Verifica se o nível de ruído está acima do limiar máximo permitido
    if decibel_simulado > MAX_NOISE_LEVEL:
        print("O ambiente simulado não está adequado para o sono do paciente")
        ambiente_simulado = False
    else:
        print("O ambiente simulado está adequado para o sono do paciente")
        ambiente_simulado = True
    
    lista_decibel.append(decibel)
    lista_decibel.append(decibel_simulado)
    lista_ambiente.append(ambiente_adequado)
    lista_ambiente.append(ambiente_simulado)
    return ambiente_adequado, ambiente_simulado

# Mede o nível de ruído por 5 segundos
medir_nivel_ruido(5)
