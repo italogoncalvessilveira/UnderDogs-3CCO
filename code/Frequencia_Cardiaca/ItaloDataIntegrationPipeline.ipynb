{
 "cells": [
  {
   "cell_type": "code",
   "execution_count": 22,
   "id": "b254b51b",
   "metadata": {},
   "outputs": [],
   "source": [
    "#iniciar spark\n",
    "from pyspark import SparkConf\n",
    "from pyspark.sql import SparkSession\n",
    "import json\n",
    "import boto3\n",
    "\n",
    "conf = SparkConf()\n",
    "conf.set('spark.jars.packages', 'org.apache.hadoop:hadoop-aws:3.2.0')\n",
    "conf.set('spark.hadoop.fs.s3a.aws.credentials.provider', 'com.amazonaws.auth.InstanceProfileCredentialsProvider')\n",
    "spark = SparkSession.builder.config(conf=conf).getOrCreate()\n",
    "\n",
    "bucket_refined = 'refined-dev-underdogs'\n",
    "bucket_trusted = 'trusted-dev-underdogs'\n",
    "\n",
    "\n",
    "file_name = 'iotcore/frequenciacardiaca/payload.json'\n",
    "caminho_arquivo_s3 = f's3a://raw-dev-underdogs/{file_name}'"
   ]
  },
  {
   "cell_type": "code",
   "execution_count": 23,
   "id": "b09b2362",
   "metadata": {},
   "outputs": [
    {
     "name": "stdout",
     "output_type": "stream",
     "text": [
      "+-----------------+-------------------+------------------+------------------+--------------+-------------+------------+--------------------+-------------------+\n",
      "|bateriaDisponivel|        dataLeitura|   espacoUtilizado|frequenciaCardiaca|generoPaciente|idadePaciente|nomePaciente|      tempoUtilizado|zonaDisponibilidade|\n",
      "+-----------------+-------------------+------------------+------------------+--------------+-------------+------------+--------------------+-------------------+\n",
      "|            99.85|2023-08-06 20:41:58|1.9073486328125E-4|               108|             M|           20|       Italo|3.862380981445312...|          localhost|\n",
      "+-----------------+-------------------+------------------+------------------+--------------+-------------+------------+--------------------+-------------------+\n",
      "\n",
      "+-------------+-------------+--------------+------------------+-------------------+------------------+--------------------+-------------------+-----------------+\n",
      "|nome_paciente|idadePaciente|generoPaciente|frequenciaCardiaca|        dataLeitura|   espacoUtilizado|      tempoUtilizado|zonaDisponibilidade|bateriaDisponivel|\n",
      "+-------------+-------------+--------------+------------------+-------------------+------------------+--------------------+-------------------+-----------------+\n",
      "|        Italo|           20|             M|               108|2023-08-06 20:41:58|1.9073486328125E-4|3.862380981445312...|          localhost|            99.85|\n",
      "+-------------+-------------+--------------+------------------+-------------------+------------------+--------------------+-------------------+-----------------+\n",
      "\n",
      "[[\"Italo\", 20, \"M\", 108, \"2023-08-06 20:41:58\", 0.00019073486328125, 3.8623809814453125e-05, \"localhost\", \"99.85\"]]\n"
     ]
    },
    {
     "data": {
      "text/plain": [
       "{'ResponseMetadata': {'RequestId': '9BRJZ33PNYCNFM5Y',\n",
       "  'HostId': 'yOUCYSA2UEgQtYj9tGAHcX57zAludw176wVpikOwwn8vyzOZaHosvG4lvkTaGRbsym3AzC9iuxg=',\n",
       "  'HTTPStatusCode': 200,\n",
       "  'HTTPHeaders': {'x-amz-id-2': 'yOUCYSA2UEgQtYj9tGAHcX57zAludw176wVpikOwwn8vyzOZaHosvG4lvkTaGRbsym3AzC9iuxg=',\n",
       "   'x-amz-request-id': '9BRJZ33PNYCNFM5Y',\n",
       "   'date': 'Sun, 06 Aug 2023 22:00:52 GMT',\n",
       "   'x-amz-server-side-encryption': 'AES256',\n",
       "   'etag': '\"b88a175287c1acc2054e5562a7e137f3\"',\n",
       "   'server': 'AmazonS3',\n",
       "   'content-length': '0'},\n",
       "  'RetryAttempts': 0},\n",
       " 'ETag': '\"b88a175287c1acc2054e5562a7e137f3\"',\n",
       " 'ServerSideEncryption': 'AES256'}"
      ]
     },
     "execution_count": 23,
     "metadata": {},
     "output_type": "execute_result"
    }
   ],
   "source": [
    "df = spark.read.json(caminho_arquivo_s3)    \n",
    "\n",
    "df.show()\n",
    "\n",
    "\n",
    "new_df_refined = df.select(df.nomePaciente.alias('nome_paciente'),\n",
    "                           df.idadePaciente.alias('idadePaciente'),\n",
    "                           df.generoPaciente.alias('generoPaciente'),\n",
    "                           df.frequenciaCardiaca.alias('frequenciaCardiaca'),\n",
    "                           df.dataLeitura.alias('dataLeitura'),\n",
    "                           df.espacoUtilizado.alias('espacoUtilizado'),\n",
    "                           df.tempoUtilizado.alias('tempoUtilizado'),\n",
    "                           df.zonaDisponibilidade.alias('zonaDisponibilidade'),\n",
    "                           df.bateriaDisponivel.alias('bateriaDisponivel'))\n",
    "\n",
    "\n",
    "new_df_refined.show()\n",
    "\n",
    "dados_refined = new_df_refined.collect()\n",
    "\n",
    "\n",
    "json_refined = json.dumps(dados_refined)\n",
    "print(json_refined)\n",
    "\n",
    "session = boto3.Session()\n",
    "\n",
    "s3 = session.client('s3')\n",
    "\n",
    "\n",
    "\n",
    "s3.put_object(Body=json_refined,Bucket=bucket_refined,Key=file_name)"
   ]
  },
  {
   "cell_type": "code",
   "execution_count": 24,
   "id": "67b4beeb",
   "metadata": {},
   "outputs": [
    {
     "name": "stdout",
     "output_type": "stream",
     "text": [
      "+-------------+-------------+--------------+------------------+-------------------+\n",
      "|nome_paciente|idadePaciente|generoPaciente|frequenciaCardiaca|        dataLeitura|\n",
      "+-------------+-------------+--------------+------------------+-------------------+\n",
      "|        Italo|           20|             M|               108|2023-08-06 20:41:58|\n",
      "+-------------+-------------+--------------+------------------+-------------------+\n",
      "\n",
      "[[\"Italo\", 20, \"M\", 108, \"2023-08-06 20:41:58\"]]\n"
     ]
    },
    {
     "data": {
      "text/plain": [
       "{'ResponseMetadata': {'RequestId': '0DKE54S9AABHVC80',\n",
       "  'HostId': 'IKsFvdY9/CBplEGJpVALM0KoS6XaMWXbaAa2gCjI+z7IZMiePHrOMwWPzvHs7aAWRBxvIxVKjyndO6a0SQLwOg==',\n",
       "  'HTTPStatusCode': 200,\n",
       "  'HTTPHeaders': {'x-amz-id-2': 'IKsFvdY9/CBplEGJpVALM0KoS6XaMWXbaAa2gCjI+z7IZMiePHrOMwWPzvHs7aAWRBxvIxVKjyndO6a0SQLwOg==',\n",
       "   'x-amz-request-id': '0DKE54S9AABHVC80',\n",
       "   'date': 'Sun, 06 Aug 2023 22:00:59 GMT',\n",
       "   'x-amz-server-side-encryption': 'AES256',\n",
       "   'etag': '\"77550b3fcfdbde1b947aad3288164060\"',\n",
       "   'server': 'AmazonS3',\n",
       "   'content-length': '0'},\n",
       "  'RetryAttempts': 0},\n",
       " 'ETag': '\"77550b3fcfdbde1b947aad3288164060\"',\n",
       " 'ServerSideEncryption': 'AES256'}"
      ]
     },
     "execution_count": 24,
     "metadata": {},
     "output_type": "execute_result"
    }
   ],
   "source": [
    "new_df_trusted = df.select(df.nomePaciente.alias('nome_paciente'),\n",
    "                           df.idadePaciente.alias('idadePaciente'),\n",
    "                           df.generoPaciente.alias('generoPaciente'),\n",
    "                           df.frequenciaCardiaca.alias('frequenciaCardiaca'),\n",
    "                           df.dataLeitura.alias('dataLeitura'))\n",
    "\n",
    "\n",
    "new_df_trusted.show()\n",
    "\n",
    "dados_trusted = new_df_trusted.collect()\n",
    "\n",
    "\n",
    "json_trusted = json.dumps(dados_trusted)\n",
    "print(json_trusted)\n",
    "\n",
    "s3.put_object(Body=json_trusted,Bucket=bucket_trusted,Key=file_name)"
   ]
  },
  {
   "cell_type": "code",
   "execution_count": null,
   "id": "37e76447",
   "metadata": {},
   "outputs": [],
   "source": []
  }
 ],
 "metadata": {
  "kernelspec": {
   "display_name": "Python 3 (ipykernel)",
   "language": "python",
   "name": "python3"
  },
  "language_info": {
   "codemirror_mode": {
    "name": "ipython",
    "version": 3
   },
   "file_extension": ".py",
   "mimetype": "text/x-python",
   "name": "python",
   "nbconvert_exporter": "python",
   "pygments_lexer": "ipython3",
   "version": "3.7.16"
  }
 },
 "nbformat": 4,
 "nbformat_minor": 5
}
